{
 "cells": [
  {
   "cell_type": "markdown",
   "id": "7b58d809",
   "metadata": {},
   "source": [
    "### Libraries for WebScraping"
   ]
  },
  {
   "cell_type": "code",
   "execution_count": 1,
   "id": "4beec561",
   "metadata": {},
   "outputs": [],
   "source": [
    "# Selenium for driver\n",
    "from selenium import webdriver \n",
    "# BeautifulSoup for scraping \n",
    "from bs4 import BeautifulSoup\n",
    "import requests\n",
    "# for username and password\n",
    "from dotenv import load_dotenv\n",
    "import os\n",
    "\n",
    "import time"
   ]
  },
  {
   "cell_type": "markdown",
   "id": "d0e123ac",
   "metadata": {},
   "source": [
    "### Login Information"
   ]
  },
  {
   "cell_type": "code",
   "execution_count": 2,
   "id": "546ad0b0",
   "metadata": {},
   "outputs": [],
   "source": [
    "load_dotenv()\n",
    "USERNAME = os.getenv(\"USERNAME\")\n",
    "PASSWORD = os.getenv(\"PASSWORD\")"
   ]
  },
  {
   "cell_type": "markdown",
   "id": "32de1ec7",
   "metadata": {},
   "source": [
    "### Scraping"
   ]
  },
  {
   "cell_type": "code",
   "execution_count": 3,
   "id": "c9b9f2d4",
   "metadata": {},
   "outputs": [],
   "source": [
    "# driver\n",
    "driver = webdriver.Chrome(executable_path='./chromedriver')\n",
    "\n",
    "# login\n",
    "driver.get('https://bbhosted.cuny.edu/webapps/calendar/viewPersonal')\n",
    "driver.find_element_by_id(\"CUNYfirstUsernameH\").send_keys(USERNAME) # send username\n",
    "driver.find_element_by_id(\"CUNYfirstPassword\").send_keys(PASSWORD) #send password\n",
    "driver.find_element_by_id(\"submit\").click() #click on submit button\n",
    "time.sleep(2)\n",
    "## Start from August (begining of semester)\n",
    "while(driver.find_element_by_id('anonymous_element_7').text != 'August 2021'):\n",
    "    driver.find_element_by_xpath(\"//button[@title='Previous Period']\").click()\n",
    "    time.sleep(5) # wait for 5 sec\n",
    "    \n",
    "## Go until Dec (end of semester)\n",
    "time.sleep(5) # wait for 5 sec\n",
    "assignments = []\n",
    "while(driver.find_element_by_id('anonymous_element_7').text != 'December 2021'):\n",
    "    soup = BeautifulSoup(driver.page_source,'html.parser')\n",
    "    divs = soup.find_all('div', {'class': 'fc-event-inner fc-event-skin'})\n",
    "    if len(divs) > 0:\n",
    "        for div in divs:\n",
    "            aux_obj = {}\n",
    "            aux_obj['Due Date']=div.find('span', {'class': 'hideoff'}).text\n",
    "            aux_obj['Time']=div.find('span', {'class': 'fc-event-time'}).text\n",
    "            aux_obj['Title']=div.find('span', {'class': 'fc-event-title'}).text\n",
    "            assignments.append(aux_obj)\n",
    "    time.sleep(2)\n",
    "    driver.find_element_by_xpath(\"//button[@title='Next Period']\").click()\n",
    "    time.sleep(10)\n",
    "driver.quit()\n",
    "[index for assignment, index in enumerate(assignments) if index not in assignments[assignment + 1:]]"
   ]
  },
  {
   "cell_type": "code",
   "execution_count": null,
   "id": "5a1b4c40",
   "metadata": {},
   "outputs": [],
   "source": []
  },
  {
   "cell_type": "code",
   "execution_count": null,
   "id": "2b70f384",
   "metadata": {},
   "outputs": [],
   "source": []
  }
 ],
 "metadata": {
  "kernelspec": {
   "display_name": "Python 3",
   "language": "python",
   "name": "python3"
  },
  "language_info": {
   "codemirror_mode": {
    "name": "ipython",
    "version": 3
   },
   "file_extension": ".py",
   "mimetype": "text/x-python",
   "name": "python",
   "nbconvert_exporter": "python",
   "pygments_lexer": "ipython3",
   "version": "3.8.8"
  }
 },
 "nbformat": 4,
 "nbformat_minor": 5
}
